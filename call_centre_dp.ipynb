{
 "cells": [
  {
   "cell_type": "code",
   "execution_count": 30,
   "metadata": {},
   "outputs": [],
   "source": [
    "# Global environments\n",
    "\n",
    "import numpy as np\n",
    "import matplotlib.pyplot as plt\n",
    "import seaborn as sns\n",
    "\n",
    "## Customer arrivals (Poisson distribution)\n",
    "### Consider open ended function\n",
    "LAMBDA_SIMPLE = 5 # Simple topic, 5 calls per time unit\n",
    "LAMBDA_COMPLEX = 3 # Complex topic, 3 calls per time unit\n",
    "\n",
    "## Service rate of the agents (Exponential distribution)\n",
    "## Topic 1 (simple) rate will always be higher than Topic 2 (complex) rate\n",
    "## Agent 1 is better at Topic 1, Agent 2 is better at Topic 2\n",
    "### Consider open ended function\n",
    "MU_1_SIMPLE = 1/2 # Agent 1 Topic Simple, 2 time unit to answer\n",
    "MU_2_SIMPLE = 1/3 # Agent 2 Topic Simple, 3 time unit to answer\n",
    "MU_2_COMPLEX = 1/4 # Agent 2 Topic Complex, 4 time unit to answer\n",
    "MU_1_COMPLEX = 1/6 # Agent 1 Topic Complex, 5 time unit to answer\n",
    "\n",
    "GAMMA = 0.9  # Discount factor\n",
    "THRESHOLD = 1e-3  # Convergence threshold"
   ]
  },
  {
   "cell_type": "code",
   "execution_count": 31,
   "metadata": {},
   "outputs": [],
   "source": [
    "# State space: max queue length\n",
    "MAX_QUEUE = 20  # Max queue length considered\n",
    "states = [(q1, q2) for q1 in range(MAX_QUEUE) for q2 in range(MAX_QUEUE)]\n",
    "\n",
    "# Action space: Assign to queue 1 or queue 2\n",
    "actions = [0, 1]  # 0 -> Queue 1, 1 -> Queue 2\n",
    "\n",
    "# Initialize value function and policies\n",
    "V_simple = np.zeros((MAX_QUEUE, MAX_QUEUE))\n",
    "V_complex = np.zeros((MAX_QUEUE, MAX_QUEUE))\n",
    "policy_simple = np.zeros((MAX_QUEUE, MAX_QUEUE))\n",
    "policy_complex = np.zeros((MAX_QUEUE, MAX_QUEUE))"
   ]
  },
  {
   "cell_type": "code",
   "execution_count": null,
   "metadata": {},
   "outputs": [
    {
     "name": "stderr",
     "output_type": "stream",
     "text": [
      "C:\\Users\\irfan\\AppData\\Local\\Temp\\ipykernel_21824\\1725339734.py:35: RuntimeWarning: overflow encountered in scalar multiply\n",
      "  future_value = GAMMA * V_complex[next_q1, next_q2] * (1 / MU_2_COMPLEX)\n",
      "C:\\Users\\irfan\\AppData\\Local\\Temp\\ipykernel_21824\\1725339734.py:60: RuntimeWarning: invalid value encountered in scalar subtract\n",
      "  delta_complex = max(delta_complex, abs(new_V_complex[q1, q2] - V_complex[q1, q2]))\n",
      "C:\\Users\\irfan\\AppData\\Local\\Temp\\ipykernel_21824\\1725339734.py:31: RuntimeWarning: overflow encountered in scalar multiply\n",
      "  future_value = GAMMA * V_simple[next_q1, next_q2] * (1 / MU_1_SIMPLE)\n",
      "C:\\Users\\irfan\\AppData\\Local\\Temp\\ipykernel_21824\\1725339734.py:59: RuntimeWarning: invalid value encountered in scalar subtract\n",
      "  delta_simple = max(delta_simple, abs(new_V_simple[q1, q2] - V_simple[q1, q2]))\n"
     ]
    }
   ],
   "source": [
    "# Functions\n",
    "\n",
    "## Bellman update function\n",
    "def bellman_update(q1, q2, is_simple):\n",
    "    min_cost = float('inf')\n",
    "    best_action = None\n",
    "    \n",
    "    # Probability of simple and complex topics in queue\n",
    "    p_simple = LAMBDA_SIMPLE / (LAMBDA_SIMPLE + LAMBDA_COMPLEX)\n",
    "    p_complex = LAMBDA_COMPLEX / (LAMBDA_SIMPLE + LAMBDA_COMPLEX)\n",
    "\n",
    "    for action in actions:\n",
    "        # Assign to queue 1\n",
    "        if action == 0:\n",
    "            next_q1 = min(q1 + 1, MAX_QUEUE - 1)\n",
    "            next_q2 = q2\n",
    "        else:  # Assign to queue 2\n",
    "            next_q1 = q1\n",
    "            next_q2 = min(q2 + 1, MAX_QUEUE - 1)\n",
    "\n",
    "        # Expected service time\n",
    "        # exp_service_time_q1 = ((q1 + 1) / (2 * MU_1_SIMPLE) if q1 > 0 else 0) * (p_simple / MU_1_SIMPLE) + \\\n",
    "        #     ((q1 + 1) / (2 * MU_1_COMPLEX) if q1 > 0 else 0) * (p_complex / MU_1_COMPLEX)\n",
    "\n",
    "        # exp_service_time_q2 = ((q2 + 1) / (2 * MU_2_SIMPLE) if q2 > 0 else 0) * (p_simple / MU_2_SIMPLE) + \\\n",
    "        #     ((q2 + 1) / (2 * MU_2_COMPLEX) if q2 > 0 else 0) * (p_complex / MU_2_COMPLEX)\n",
    "\n",
    "        if is_simple:\n",
    "            exp_service_time_q1 = p_simple * (q1 + 1) / (2 * MU_1_SIMPLE) if q1 > 0 else 0\n",
    "            exp_service_time_q2 = p_simple * (q2 + 1) / (2 * MU_2_SIMPLE) if q2 > 0 else 0\n",
    "            future_value = GAMMA * V_simple[next_q1, next_q2]\n",
    "        else:\n",
    "            exp_service_time_q1 = p_complex * (q1 + 1) / (2 * MU_1_COMPLEX) if q1 > 0 else 0\n",
    "            exp_service_time_q2 = p_complex * (q2 + 1) / (2 * MU_2_COMPLEX) if q2 > 0 else 0\n",
    "            future_value = GAMMA * V_complex[next_q1, next_q2]\n",
    "\n",
    "        # Cost function: Waiting time in the queues\n",
    "        immediate_cost = exp_service_time_q1 + exp_service_time_q2\n",
    "        total_cost = immediate_cost + future_value\n",
    "\n",
    "        # Choose best action\n",
    "        if total_cost < min_cost:\n",
    "            min_cost = total_cost\n",
    "            best_action = action\n",
    "\n",
    "    return min_cost, best_action\n",
    "\n",
    "## Value Iteration Algorithm\n",
    "while True:\n",
    "    delta_simple = 0\n",
    "    delta_complex = 0\n",
    "    new_V_simple = np.copy(V_simple)\n",
    "    new_V_complex = np.copy(V_complex)\n",
    "\n",
    "    for q1, q2 in states:\n",
    "        new_V_simple[q1, q2], policy_simple[q1, q2] = bellman_update(q1, q2, is_simple=True)\n",
    "        new_V_complex[q1, q2], policy_complex[q1, q2] = bellman_update(q1, q2, is_simple=False)\n",
    "\n",
    "        delta_simple = max(delta_simple, abs(new_V_simple[q1, q2] - V_simple[q1, q2]))\n",
    "        delta_complex = max(delta_complex, abs(new_V_complex[q1, q2] - V_complex[q1, q2]))\n",
    "\n",
    "    V_simple = new_V_simple\n",
    "    V_complex = new_V_complex\n",
    "\n",
    "    if max(delta_simple, delta_complex) < THRESHOLD:\n",
    "        break\n"
   ]
  },
  {
   "cell_type": "code",
   "execution_count": 33,
   "metadata": {},
   "outputs": [
    {
     "name": "stderr",
     "output_type": "stream",
     "text": [
      "c:\\Users\\irfan\\Box\\1 - Research Project\\Code\\.venv\\Lib\\site-packages\\seaborn\\matrix.py:202: RuntimeWarning: All-NaN slice encountered\n",
      "  vmin = np.nanmin(calc_data)\n",
      "c:\\Users\\irfan\\Box\\1 - Research Project\\Code\\.venv\\Lib\\site-packages\\seaborn\\matrix.py:207: RuntimeWarning: All-NaN slice encountered\n",
      "  vmax = np.nanmax(calc_data)\n",
      "c:\\Users\\irfan\\Box\\1 - Research Project\\Code\\.venv\\Lib\\site-packages\\seaborn\\matrix.py:202: RuntimeWarning: All-NaN slice encountered\n",
      "  vmin = np.nanmin(calc_data)\n",
      "c:\\Users\\irfan\\Box\\1 - Research Project\\Code\\.venv\\Lib\\site-packages\\seaborn\\matrix.py:207: RuntimeWarning: All-NaN slice encountered\n",
      "  vmax = np.nanmax(calc_data)\n"
     ]
    },
    {
     "data": {
      "image/png": "[encoded data removed]",
      "text/plain": [
       "<Figure size 1400x600 with 2 Axes>"
      ]
     },
     "metadata": {},
     "output_type": "display_data"
    }
   ],
   "source": [
    "# Visualization\n",
    "fig, axes = plt.subplots(1, 2, figsize=(14, 6))\n",
    "\n",
    "sns.heatmap(policy_simple, annot=True, cmap=\"coolwarm\", cbar=False, ax=axes[0])\n",
    "axes[0].set_title(\"Optimal Policy for Simple Queries\")\n",
    "axes[0].set_xlabel(\"Queue 2 Length\")\n",
    "axes[0].set_ylabel(\"Queue 1 Length\")\n",
    "\n",
    "sns.heatmap(policy_complex, annot=True, cmap=\"coolwarm\", cbar=False, ax=axes[1])\n",
    "axes[1].set_title(\"Optimal Policy for Complex Queries\")\n",
    "axes[1].set_xlabel(\"Queue 2 Length\")\n",
    "axes[1].set_ylabel(\"Queue 1 Length\")\n",
    "\n",
    "plt.show()"
   ]
  }
 ],
 "metadata": {
  "kernelspec": {
   "display_name": ".venv",
   "language": "python",
   "name": "python3"
  },
  "language_info": {
   "codemirror_mode": {
    "name": "ipython",
    "version": 3
   },
   "file_extension": ".py",
   "mimetype": "text/x-python",
   "name": "python",
   "nbconvert_exporter": "python",
   "pygments_lexer": "ipython3",
   "version": "3.13.0"
  }
 },
 "nbformat": 4,
 "nbformat_minor": 2
}
